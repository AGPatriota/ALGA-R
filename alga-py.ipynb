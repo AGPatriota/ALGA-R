{
 "cells": [
  {
   "cell_type": "code",
   "execution_count": 1,
   "id": "390ca6ce",
   "metadata": {
    "_cell_guid": "b1076dfc-b9ad-4769-8c92-a6c4dae69d19",
    "_uuid": "8f2839f25d086af736a60e9eeb907d3b93b6e0e5",
    "execution": {
     "iopub.execute_input": "2024-10-23T11:56:10.420794Z",
     "iopub.status.busy": "2024-10-23T11:56:10.420327Z",
     "iopub.status.idle": "2024-10-23T11:56:13.800098Z",
     "shell.execute_reply": "2024-10-23T11:56:13.798541Z"
    },
    "papermill": {
     "duration": 3.389468,
     "end_time": "2024-10-23T11:56:13.802842",
     "exception": false,
     "start_time": "2024-10-23T11:56:10.413374",
     "status": "completed"
    },
    "tags": []
   },
   "outputs": [
    {
     "name": "stdout",
     "output_type": "stream",
     "text": [
      "/kaggle/input/Model.pt\n"
     ]
    }
   ],
   "source": [
    "# This Python 3 environment comes with many helpful analytics libraries installed\n",
    "# It is defined by the kaggle/python Docker image: https://github.com/kaggle/docker-python\n",
    "# For example, here's several helpful packages to load\n",
    "\n",
    "import torch\n",
    "from torch import nn\n",
    "from torch.optim import AdamW\n",
    "import numpy as np\n",
    "from random import randint, choices\n",
    "\n",
    "# Input data files are available in the read-only \"../input/\" directory\n",
    "# For example, running this (by clicking run or pressing Shift+Enter) will list all files under the input directory\n",
    "\n",
    "import os\n",
    "for dirname, _, filenames in os.walk('/kaggle/input'):\n",
    "    for filename in filenames:\n",
    "        print(os.path.join(dirname, filename))\n",
    "\n",
    "# You can write up to 20GB to the current directory (/kaggle/working/) that gets preserved as output when you create a version using \"Save & Run All\" \n",
    "# You can also write temporary files to /kaggle/temp/, but they won't be saved outside of the current session"
   ]
  },
  {
   "cell_type": "code",
   "execution_count": 2,
   "id": "8352f02f",
   "metadata": {
    "execution": {
     "iopub.execute_input": "2024-10-23T11:56:13.814696Z",
     "iopub.status.busy": "2024-10-23T11:56:13.814112Z",
     "iopub.status.idle": "2024-10-23T11:56:13.821825Z",
     "shell.execute_reply": "2024-10-23T11:56:13.820552Z"
    },
    "papermill": {
     "duration": 0.016493,
     "end_time": "2024-10-23T11:56:13.824431",
     "exception": false,
     "start_time": "2024-10-23T11:56:13.807938",
     "status": "completed"
    },
    "tags": []
   },
   "outputs": [],
   "source": [
    "#This code was translated from the R-code: https://github.com/AGPatriota/ALGA-R\n",
    "#with the help of ChatGPT. Some corrections were needed to work properly\n",
    "#If you find any problems, please contect me: patriota [at] ime [dot] usp [dot] br\n",
    "\n",
    "config = {\n",
    "    'digits': 1000,\n",
    "    'train': True,\n",
    "    'test' : True,\n",
    "    'iter': 2000,\n",
    "    'block_size': 5,\n",
    "    'block_train': 5,\n",
    "    'block_size_out': 4,\n",
    "    'max': 5,\n",
    "    'n_embd': 64,\n",
    "    'N_Layers': 2,\n",
    "    'n_head': 2,\n",
    "    'lr': 0.0005,\n",
    "    'batch_size': 16 * 32,\n",
    "    'epochs': 150,\n",
    "    'p0': 0.2,\n",
    "    'p1': 0.2\n",
    "}\n"
   ]
  },
  {
   "cell_type": "code",
   "execution_count": 3,
   "id": "81d8e22e",
   "metadata": {
    "execution": {
     "iopub.execute_input": "2024-10-23T11:56:13.836139Z",
     "iopub.status.busy": "2024-10-23T11:56:13.835587Z",
     "iopub.status.idle": "2024-10-23T11:56:13.845470Z",
     "shell.execute_reply": "2024-10-23T11:56:13.844117Z"
    },
    "papermill": {
     "duration": 0.018654,
     "end_time": "2024-10-23T11:56:13.848039",
     "exception": false,
     "start_time": "2024-10-23T11:56:13.829385",
     "status": "completed"
    },
    "tags": []
   },
   "outputs": [
    {
     "name": "stdout",
     "output_type": "stream",
     "text": [
      "04152637\n"
     ]
    }
   ],
   "source": [
    "def intercalar(input_str):\n",
    "    # Split the input into two numbers\n",
    "    parts = input_str.split('+')\n",
    "    \n",
    "    num1 = list(parts[0])\n",
    "    num2 = list(parts[1])\n",
    "    \n",
    "    # Add zeros to the left\n",
    "    max_len = max(len(num1), len(num2))\n",
    "    num1 = ['0'] * (max_len - len(num1)) + num1\n",
    "    num2 = ['0'] * (max_len - len(num2)) + num2\n",
    "    \n",
    "    # Intercalate the digits\n",
    "    intercalated = ''.join(n1 + n2 for n1, n2 in zip(num1, num2))\n",
    "    \n",
    "    return intercalated\n",
    "\n",
    "# Example\n",
    "input_str = \"123+4567\"\n",
    "result = intercalar(input_str)\n",
    "print(result) \n"
   ]
  },
  {
   "cell_type": "code",
   "execution_count": 4,
   "id": "541987a8",
   "metadata": {
    "execution": {
     "iopub.execute_input": "2024-10-23T11:56:13.860453Z",
     "iopub.status.busy": "2024-10-23T11:56:13.859950Z",
     "iopub.status.idle": "2024-10-23T11:56:13.892285Z",
     "shell.execute_reply": "2024-10-23T11:56:13.890951Z"
    },
    "papermill": {
     "duration": 0.041917,
     "end_time": "2024-10-23T11:56:13.894986",
     "exception": false,
     "start_time": "2024-10-23T11:56:13.853069",
     "status": "completed"
    },
    "tags": []
   },
   "outputs": [
    {
     "name": "stdout",
     "output_type": "stream",
     "text": [
      "cpu\n"
     ]
    }
   ],
   "source": [
    "from torch.nn.functional import softmax\n",
    "from random import choices, sample\n",
    "\n",
    "# Vocabulary\n",
    "Voc = [\"P\", \"S\", \"0\", \"1\", \"2\", \"3\", \"4\", \"5\", \"6\", \"7\", \"8\", \"9\", \"\\n\", \"C\"]\n",
    "# Set device\n",
    "device0 = torch.device(\"cuda\" if torch.cuda.is_available() else \"cpu\")\n",
    "\n",
    "print(device0)\n",
    "def Encoder(file, vocabulary=Voc):\n",
    "    return [vocabulary.index(char) if char in vocabulary else 0 for char in file]\n",
    "\n",
    "def Decoder(file, vocabulary=Voc):\n",
    "    return ''.join([vocabulary[idx] if idx < len(vocabulary) else '' for idx in file])\n",
    "\n",
    "\n",
    "def Generate(idx, model, block_size_out, max_new_tokens=3, temperature=0.7, top_k=None, device00=device0, print_flag=True):\n",
    "    if print_flag:\n",
    "        print(\"\\n\\n===================== Generating Tokens =====================\\n\\n\")\n",
    "        decoded_prompt = Decoder(idx)  # Decoding the initial indices\n",
    "        decoded_prompt = [char for char in decoded_prompt if char != \"P\"]\n",
    "        print(f\"Prompt:\\n{''.join(decoded_prompt)}\\n\")\n",
    "    \n",
    "    idx = torch.tensor(idx, dtype=torch.int64, device=device00).unsqueeze(0)\n",
    "    # Start token setup with correct index for Python\n",
    "    y = torch.tensor([12], dtype=torch.int64, device=device00).unsqueeze(1)\n",
    "    \n",
    "    with torch.no_grad():\n",
    "        model.eval()\n",
    "        for i in range(max_new_tokens):\n",
    "            if y.size(1) <= block_size_out:\n",
    "                y_cond = y\n",
    "            else:\n",
    "                y_cond = y[:, -block_size_out:]  # Taking the last 'block_size_out' tokens\n",
    "            logits = model.eval()(idx, y_cond)\n",
    "\n",
    "            q = min(i, logits.size(1)-1)\n",
    "            logits = logits[:, q] / temperature  # Get the last set of logits and scale by temperature\n",
    "            if top_k is not None:\n",
    "                values, indices = torch.topk(logits, top_k)\n",
    "                probs = softmax(values, dim=-1)\n",
    "                next_token_idx = torch.multinomial(probs, num_samples=1)\n",
    "                y_next = indices.gather(-1, next_token_idx).unsqueeze(1)\n",
    "            else:\n",
    "                y_next = logits.argmax(-1).unsqueeze(-1)  # Taking the most likely next token\n",
    "            # Breaking if a specific token (assumed to be stop token) is generated\n",
    "            if y_next.item() == 1:  # This needs to be adjusted based on the actual stopping condition\n",
    "                break\n",
    "\n",
    "            y = torch.cat([y, y_next], dim=1)\n",
    "            if print_flag:\n",
    "                d = y_next.to('cpu').squeeze().tolist()\n",
    "        if print_flag:\n",
    "            print(\"\\n\")\n",
    "        y = y.to('cpu').squeeze().tolist()  # Convert tensor to list for final output\n",
    "        return y\n",
    "        return [Decoder([tok]) for tok in y]  # Wrap tok in a list before decoding\n",
    "\n",
    "        \n",
    "def Add(num1):\n",
    "    num1 = [int(n) for n in num1]\n",
    "    total = sum(num1)\n",
    "    return total, 1 if total >= 10 else 0\n",
    "\n",
    "\n",
    "def Add1(num1, num2=None):\n",
    "    if num2 is None:\n",
    "        y = Add(num1)[0]\n",
    "        return {'x': num1, 'y': f\"\\n{y}S\"}\n",
    "    if len(num2) < 2:\n",
    "        num2 = f\"0{num2}\"\n",
    "    total, carry = Add(num1)\n",
    "    num21 = int(num2[0])\n",
    "    num22 = int(num2[1])\n",
    "    return {'x': f\"{total}C{num2}\", 'y': f\"\\n{num21 + num22 + carry}S\"}\n",
    "\n",
    "def Gen(batch_size=16, device00=device0):\n",
    "    x = []\n",
    "    y = []\n",
    "    for _ in range(batch_size):\n",
    "        num1 = ''.join([str(randint(0, 9)) for _ in range(randint(1, 2))])\n",
    "        num2 = None\n",
    "        if np.random.rand() < 0.5:\n",
    "            num2 = ''.join([str(randint(0, 9)) for _ in range(randint(1, 2))])\n",
    "        z = Add1(num1, num2)\n",
    "        if len(z['y']) < config['block_size_out']:\n",
    "            num_chars_needed = config['block_size_out'] - len(z['y'])\n",
    "            z['y'] += \"P\" * num_chars_needed\n",
    "        if len(z['x']) < config['block_size']:\n",
    "            num_chars_needed = config['block_size'] - len(z['x'])\n",
    "            z['x'] += \"P\" * num_chars_needed\n",
    "        x.append(Encoder(z['x']))\n",
    "        y.append(Encoder(z['y']))\n",
    "    x_tensor = torch.tensor(x, dtype=torch.int64, device=device00)\n",
    "    y_tensor = torch.tensor(y, dtype=torch.int64, device=device00)\n",
    "    return {'x': x_tensor, 'y': y_tensor}\n"
   ]
  },
  {
   "cell_type": "code",
   "execution_count": 5,
   "id": "40f9bc1f",
   "metadata": {
    "execution": {
     "iopub.execute_input": "2024-10-23T11:56:13.907931Z",
     "iopub.status.busy": "2024-10-23T11:56:13.907153Z",
     "iopub.status.idle": "2024-10-23T11:56:14.144333Z",
     "shell.execute_reply": "2024-10-23T11:56:14.143085Z"
    },
    "papermill": {
     "duration": 0.246483,
     "end_time": "2024-10-23T11:56:14.147166",
     "exception": false,
     "start_time": "2024-10-23T11:56:13.900683",
     "status": "completed"
    },
    "tags": []
   },
   "outputs": [
    {
     "name": "stdout",
     "output_type": "stream",
     "text": [
      "8PPPP \n",
      "8SP\n"
     ]
    },
    {
     "data": {
      "text/plain": [
       "('P', '\\n8S', '\\n8SP')"
      ]
     },
     "execution_count": 5,
     "metadata": {},
     "output_type": "execute_result"
    }
   ],
   "source": [
    "from torch.nn import functional as F\n",
    "\n",
    "class GPT(nn.Module):\n",
    "    def __init__(self, block_size, block_size_out, n_embd, N_Layers, nvoc, Head, p0, p1):\n",
    "        super(GPT, self).__init__()\n",
    "        self.N = N_Layers\n",
    "        self.block_size = block_size\n",
    "        self.block_size_out = block_size_out\n",
    "        self.wpe_out = nn.Embedding(block_size + block_size_out, n_embd)\n",
    "        self.wte_out = nn.Embedding(nvoc, n_embd, padding_idx=0)\n",
    "        self.MH_dec = nn.ModuleList([nn.MultiheadAttention(n_embd, Head, dropout=p1) for _ in range(N_Layers)])\n",
    "        self.scale1_dec = nn.ModuleList([nn.LayerNorm(n_embd) for _ in range(N_Layers)])\n",
    "        self.scale2_dec = nn.ModuleList([nn.LayerNorm(n_embd) for _ in range(N_Layers)])\n",
    "        self.scale3 = nn.LayerNorm(n_embd, elementwise_affine=True)\n",
    "        self.FFN_dec = nn.ModuleList([\n",
    "            nn.Sequential(\n",
    "                nn.Linear(n_embd, 4 * n_embd),\n",
    "                nn.GELU(),\n",
    "                nn.Linear(4 * n_embd, n_embd),\n",
    "                nn.Dropout(p0)\n",
    "            ) for _ in range(N_Layers)\n",
    "        ])\n",
    "        self.ln_f = nn.Linear(n_embd, nvoc, bias=False)\n",
    "        self.drop0_out = nn.Dropout(p=p0)\n",
    "\n",
    "    def forward(self, x, y):\n",
    "        y1 = torch.arange(0, x.size(1) + y.size(1), dtype=torch.int64, device=y.device).unsqueeze(0)\n",
    "        y1 = y1.expand(x.size(0), x.size(1) + y.size(1))       \n",
    "        wei = torch.zeros((x.size(1) + y.size(1), x.size(1) + y.size(1)), dtype=torch.bool, device=x.device)\n",
    "        aux =  slice(x.size(1)+1, x.size(1) + y.size(1))\n",
    "        wei[:x.size(1), aux] = True\n",
    "        triangular_mask = torch.triu(torch.ones(y.size(1), y.size(1), dtype=torch.bool), diagonal=1)\n",
    "        block_end = x.size(1) + y.size(1)\n",
    "        block_start = x.size(1)\n",
    "        wei[block_start:block_end, block_start:block_end] = triangular_mask\n",
    "        output = torch.cat([x, y], dim=1)\n",
    "        output = self.wte_out(output) + self.wpe_out(y1)\n",
    "        output = self.drop0_out(output)\n",
    "\n",
    "        \n",
    "        for j in range(self.N):\n",
    "            Q = self.scale1_dec[j](output).transpose(0, 1)\n",
    "            output = output + self.MH_dec[j](Q, Q, Q, attn_mask=wei, need_weights=False)[0].transpose(0, 1)\n",
    "            output = output + self.FFN_dec[j](self.scale2_dec[j](output))\n",
    "        \n",
    "        output = self.ln_f(self.scale3(output))\n",
    "        return output[:, -(y.size(1)):]\n",
    "  \n",
    "model = GPT(block_size=config['block_size'],\n",
    "            block_size_out=config['block_size_out'],\n",
    "            n_embd=config['n_embd'],\n",
    "            N_Layers=config['N_Layers'],\n",
    "            Head=config['n_head'],\n",
    "            nvoc=len(Voc),\n",
    "            p0=config['p0'], \n",
    "            p1=config['p1'])\n",
    "\n",
    "#model.load_state_dict(torch.load(model_save, map_location=torch.device(device0),weights_only=True))\n",
    "Z = Gen(1)\n",
    "print(Decoder(Z['x'].squeeze().tolist()), Decoder(Z['y'].squeeze().tolist()))\n",
    "FIT = model.eval()(Z['x'], torch.tensor([[12]], dtype=torch.int64)) #Z['y'][:,0:2])\n",
    "Decoder([FIT.argmax(-1).squeeze().tolist()]),Decoder(Z['y'][:,:-1].squeeze().tolist()),Decoder(Z['y'].squeeze().tolist())"
   ]
  },
  {
   "cell_type": "code",
   "execution_count": 6,
   "id": "315def38",
   "metadata": {
    "execution": {
     "iopub.execute_input": "2024-10-23T11:56:14.161129Z",
     "iopub.status.busy": "2024-10-23T11:56:14.160683Z",
     "iopub.status.idle": "2024-10-23T11:56:14.177859Z",
     "shell.execute_reply": "2024-10-23T11:56:14.176691Z"
    },
    "papermill": {
     "duration": 0.026827,
     "end_time": "2024-10-23T11:56:14.180667",
     "exception": false,
     "start_time": "2024-10-23T11:56:14.153840",
     "status": "completed"
    },
    "tags": []
   },
   "outputs": [
    {
     "data": {
      "text/plain": [
       "('P', 0, [8, 13, 5, 5, 0])"
      ]
     },
     "execution_count": 6,
     "metadata": {},
     "output_type": "execute_result"
    }
   ],
   "source": [
    "x = Encoder('6C33P')\n",
    "FIT = model.eval()(torch.tensor([x], dtype=torch.int64), torch.tensor([[12]], dtype=torch.int64))\n",
    "Decoder([FIT.argmax(-1).squeeze().tolist()]), FIT.argmax(-1).squeeze().tolist(), x"
   ]
  },
  {
   "cell_type": "code",
   "execution_count": 7,
   "id": "e56b6dc0",
   "metadata": {
    "execution": {
     "iopub.execute_input": "2024-10-23T11:56:14.194079Z",
     "iopub.status.busy": "2024-10-23T11:56:14.193562Z",
     "iopub.status.idle": "2024-10-23T12:54:52.129564Z",
     "shell.execute_reply": "2024-10-23T12:54:52.128287Z"
    },
    "papermill": {
     "duration": 3517.94573,
     "end_time": "2024-10-23T12:54:52.132453",
     "exception": false,
     "start_time": "2024-10-23T11:56:14.186723",
     "status": "completed"
    },
    "tags": []
   },
   "outputs": [
    {
     "data": {
      "image/png": "[encoded data removed]",
      "text/plain": [
       "<Figure size 1000x500 with 1 Axes>"
      ]
     },
     "metadata": {},
     "output_type": "display_data"
    }
   ],
   "source": [
    "from torch.optim import AdamW\n",
    "import matplotlib.pyplot as plt\n",
    "from IPython.display import clear_output\n",
    "\n",
    "losses_epoc = []\n",
    "\n",
    "model_save = \"Model.pt\"\n",
    "\n",
    "\n",
    "\n",
    "# Model definition\n",
    "model = GPT(block_size=config['block_size'],\n",
    "            block_size_out=config['block_size_out'],\n",
    "            n_embd=config['n_embd'],\n",
    "            N_Layers=config['N_Layers'],\n",
    "            Head=config['n_head'],\n",
    "            nvoc=len(Voc),\n",
    "            p0=config['p0'], \n",
    "            p1=config['p1'])\n",
    "\n",
    "\n",
    "model.to(device0)\n",
    "\n",
    "\n",
    "# Training loop\n",
    "if config['train']:\n",
    "    !rm -rf /kaggle/working/*\n",
    "    # Prepare for training\n",
    "    test = [Gen() for _ in range(10)]\n",
    "    loss_func = nn.CrossEntropyLoss(reduction=\"none\", ignore_index=0)\n",
    "    optimizer = AdamW(model.parameters(), lr=config['lr'])\n",
    "\n",
    "    for i in range(config['epochs']):\n",
    "        losses = []\n",
    "        for j in range(config['iter']):\n",
    "            Z = Gen()\n",
    "            FIT = model.train()(Z['x'], Z['y'][:, :-1])\n",
    "            loss = loss_func(FIT.flatten(end_dim=1), Z['y'][:, 1:].flatten())\n",
    "            loss.mean().backward()\n",
    "            optimizer.step()\n",
    "            optimizer.zero_grad()\n",
    "            losses.append(loss.mean().item())\n",
    "        losses_epoc.append(np.log(sum(losses)/config['iter']))\n",
    "        #if j % 100 == 0:\n",
    "        clear_output(wait=True)\n",
    "        plt.figure(figsize=(10, 5))\n",
    "        plt.plot(losses_epoc, label='Training Loss')\n",
    "        plt.xlabel('Epochs')\n",
    "        plt.ylabel('Log-Loss')\n",
    "        plt.title('Training Loss Over Time')\n",
    "        plt.legend()\n",
    "        plt.show()\n",
    "\n",
    "    torch.save(model.state_dict(), model_save)"
   ]
  },
  {
   "cell_type": "code",
   "execution_count": 8,
   "id": "dc612094",
   "metadata": {
    "execution": {
     "iopub.execute_input": "2024-10-23T12:54:52.146934Z",
     "iopub.status.busy": "2024-10-23T12:54:52.146322Z",
     "iopub.status.idle": "2024-10-23T13:42:17.208408Z",
     "shell.execute_reply": "2024-10-23T13:42:17.207207Z"
    },
    "papermill": {
     "duration": 2845.078804,
     "end_time": "2024-10-23T13:42:17.217450",
     "exception": false,
     "start_time": "2024-10-23T12:54:52.138646",
     "status": "completed"
    },
    "tags": []
   },
   "outputs": [
    {
     "name": "stderr",
     "output_type": "stream",
     "text": [
      "100%|██████████| 1000/1000 [47:25<00:00,  2.85s/it]"
     ]
    },
    {
     "name": "stdout",
     "output_type": "stream",
     "text": [
      "Accuracy: 100.0%\n"
     ]
    },
    {
     "name": "stderr",
     "output_type": "stream",
     "text": [
      "\n"
     ]
    }
   ],
   "source": [
    "# After training tests\n",
    "if config['test']:\n",
    "    from tqdm import tqdm\n",
    "    # Load model if exists\n",
    "    if os.path.exists(model_save):\n",
    "        model.load_state_dict(torch.load(model_save, map_location=torch.device(device0),weights_only=True))\n",
    "    model.to(device0)\n",
    "\n",
    "    ss = []\n",
    "    n0 = config['digits']\n",
    "\n",
    "\n",
    "    for i in tqdm(range(1000)):\n",
    "        x = ''.join([str(randint(0, 9)) for _ in range(randint(1, n0))])\n",
    "        y = ''.join([str(randint(0, 9)) for _ in range(randint(1, n0))])\n",
    "        num = intercalar(x + \"+\" + y)  \n",
    "        num0 = list(num)\n",
    "        N = abs(2 - len(num))\n",
    "        initial_segment = num0[-min(2, len(num0)):] + ['P'] * (config['block_size'] - min(2, len(num0)))\n",
    "        encoded_initial = Encoder(initial_segment)\n",
    "        temp = [Generate(encoded_initial, model, config['block_size_out'], config['max'], print_flag=False)]\n",
    "        s=0\n",
    "        for l in range(1, N//2+1 , 1):\n",
    "            l = 2*l+2\n",
    "            index_start = len(num0) - l\n",
    "            index_end = index_start + 2\n",
    "            num1 = temp[s][1:] + [13] + Encoder(num0[index_start:index_end])\n",
    "            num1 += [0] * (config['block_size'] - len(num1))\n",
    "            temp.append(Generate(num1, model, config['block_size_out'], config['max'], print_flag=False))\n",
    "            s += 1\n",
    "        def get_last_item(sublist):\n",
    "            return sublist[-1]\n",
    "\n",
    "        aux = [get_last_item(temp[i]) for i in range(len(temp))]\n",
    "        a = temp[-1]\n",
    "        if len(a) in [2]:\n",
    "            pred = ''.join(Decoder([item]) for item in reversed(aux))\n",
    "        else:\n",
    "            pred = ''.join(Decoder(a[1:2] + [item for item in reversed(aux)]))\n",
    "\n",
    "        pred = pred.replace('P', '').split('S')[0]\n",
    "        x0, y0 = int(x or '0'), int(y or '0')\n",
    "        pred = int(pred or '0', 10)\n",
    "        ss.append((x0 + y0) == pred)\n",
    "        \n",
    "        #Show every non-mathing case\n",
    "        if not ss[-1]:\n",
    "            print(f\"Expected: {x0 + y0}, Predicted: {pred}\")\n",
    "\n",
    "    accuracy = sum(ss) / len(ss) * 100\n",
    "    print(f\"Accuracy: {accuracy}%\")"
   ]
  },
  {
   "cell_type": "code",
   "execution_count": 9,
   "id": "69d155ee",
   "metadata": {
    "execution": {
     "iopub.execute_input": "2024-10-23T13:42:17.415016Z",
     "iopub.status.busy": "2024-10-23T13:42:17.413924Z",
     "iopub.status.idle": "2024-10-23T13:42:17.422082Z",
     "shell.execute_reply": "2024-10-23T13:42:17.420912Z"
    },
    "papermill": {
     "duration": 0.109547,
     "end_time": "2024-10-23T13:42:17.424533",
     "exception": false,
     "start_time": "2024-10-23T13:42:17.314986",
     "status": "completed"
    },
    "tags": []
   },
   "outputs": [
    {
     "data": {
      "text/plain": [
       "(635746292872969391640219567099519914742480692165630983681693454006559567018009798032276182018738176225918058193933508595356170451018704699180157589055490858631732477542286429056519956732019726399682401000960500648258834333268840731654329720684202,\n",
       " 457159302039697466060157088542784388087821170649624769347621223213224252382744273806446341541510287301339635544462693313607909321137041730351987675829800832547602545860100946872099806432079285189580418253193907554183837959708433980917067713304186521011254700597459259436141051658477331032332101092750996808388401723296933824368432799355836174957114113298084274464798979031803739427557384297434554253836269160578708928645097013584835092690036529317131366774278377997654863108107415450659509751514770839863340822077925418505546273973212825320082440002060663662050612084634587387632315665944357360080696009174975859148502383677002313353436882221830369631478370302398807616541223240605359066340902269794692400893076528318624617005385765424970946593306024379208932870183318979,\n",
       " 457159302039697466060157088542784388087821170649624769347621223213224252382744273806446341541510287301339635544462693313607909321137041730351987675829800832547602545860100946872099806432079285189580418253193907554183837959708433980917067713304186521011254700597459259436141051658477331032332101092750996808388401723296933824368432799355836174957114113298084274464798979031803739427557384297434554253836269160578708928645097013584835092690036529317131366774278377997654863108107415450659509751514770839863340822077925418505546909719505698289474080221627763181965354565326753018615997359398363919647714018973008135330521121853228231411630815730425725801929389007097987774130278731463990798818444556223748920849808548045024299406386725925619205427639293219940587199904003181,\n",
       " 457159302039697466060157088542784388087821170649624769347621223213224252382744273806446341541510287301339635544462693313607909321137041730351987675829800832547602545860100946872099806432079285189580418253193907554183837959708433980917067713304186521011254700597459259436141051658477331032332101092750996808388401723296933824368432799355836174957114113298084274464798979031803739427557384297434554253836269160578708928645097013584835092690036529317131366774278377997654863108107415450659509751514770839863340822077925418505546909719505698289474080221627763181965354565326753018615997359398363919647714018973008135330521121853228231411630815730425725801929389007097987774130278731463990798818444556223748920849808548045024299406386725925619205427639293219940587199904003181)"
      ]
     },
     "execution_count": 9,
     "metadata": {},
     "output_type": "execute_result"
    }
   ],
   "source": [
    "#Last test\n",
    "x0, y0, x0+y0, pred"
   ]
  },
  {
   "cell_type": "code",
   "execution_count": null,
   "id": "1be8f50e",
   "metadata": {
    "papermill": {
     "duration": 0.097988,
     "end_time": "2024-10-23T13:42:17.621550",
     "exception": false,
     "start_time": "2024-10-23T13:42:17.523562",
     "status": "completed"
    },
    "tags": []
   },
   "outputs": [],
   "source": []
  }
 ],
 "metadata": {
  "kaggle": {
   "accelerator": "none",
   "dataSources": [
    {
     "datasetId": 5929369,
     "sourceId": 9697242,
     "sourceType": "datasetVersion"
    }
   ],
   "isGpuEnabled": false,
   "isInternetEnabled": true,
   "language": "python",
   "sourceType": "notebook"
  },
  "kernelspec": {
   "display_name": "Python 3",
   "language": "python",
   "name": "python3"
  },
  "language_info": {
   "codemirror_mode": {
    "name": "ipython",
    "version": 3
   },
   "file_extension": ".py",
   "mimetype": "text/x-python",
   "name": "python",
   "nbconvert_exporter": "python",
   "pygments_lexer": "ipython3",
   "version": "3.10.14"
  },
  "papermill": {
   "default_parameters": {},
   "duration": 6371.647154,
   "end_time": "2024-10-23T13:42:18.946988",
   "environment_variables": {},
   "exception": null,
   "input_path": "__notebook__.ipynb",
   "output_path": "__notebook__.ipynb",
   "parameters": {},
   "start_time": "2024-10-23T11:56:07.299834",
   "version": "2.6.0"
  }
 },
 "nbformat": 4,
 "nbformat_minor": 5
}
